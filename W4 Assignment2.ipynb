{
 "cells": [
  {
   "cell_type": "markdown",
   "id": "7ddf9ad1-ca77-4db5-924a-e00c6b33f8db",
   "metadata": {},
   "source": [
    "Q1. Create a vehicle class with an init method having instance variables as name_of_vehicle, max_speed and average_of_vehicle.\n",
    "\n",
    "class vehicle:\n",
    "    \n",
    "    def __init__(self, name_of_vehicle,max_speed,average_of_vehicle):\n",
    "        \n",
    "        self.name_of_vehicle = name_of_vehicle\n",
    "        self.max_speed = max_speed\n",
    "        self.average_of_vehicle = average_of_vehicle\n"
   ]
  },
  {
   "cell_type": "markdown",
   "id": "e3a0f42f-911e-4867-85bf-ba886b542b01",
   "metadata": {},
   "source": [
    "Q2. Create a child class car from the vehicle class created in Que 1, which will inherit the vehicle class. Create a method named seating_capacity which takes capacity as an argument and returns the name of the vehicle and its seating capacity.\n"
   ]
  },
  {
   "cell_type": "code",
   "execution_count": 2,
   "id": "7122496d-1983-46b5-86d5-d494ee35a99a",
   "metadata": {},
   "outputs": [
    {
     "name": "stdout",
     "output_type": "stream",
     "text": [
      "Vehicle Name: Tata Nexon Seating capacity: 6\n"
     ]
    }
   ],
   "source": [
    "class vehicle:\n",
    "    \n",
    "    def __init__(self, name_of_vehicle,seating_capacity):\n",
    "        \n",
    "        self.name_of_vehicle = name_of_vehicle\n",
    "        self.seating_capacity = seating_capacity\n",
    "        \n",
    "class car(vehicle):\n",
    "    pass\n",
    "\n",
    "car = car(\"Tata Nexon\", 6)\n",
    "print(\"Vehicle Name:\", car.name_of_vehicle, \"Seating capacity:\", car.seating_capacity)\n"
   ]
  },
  {
   "cell_type": "markdown",
   "id": "9ad92b25-f703-464a-a2ba-de96165aeee3",
   "metadata": {},
   "source": [
    "Q3. What is multiple inheritance? Write a python code to demonstrate multiple inheritance.\n",
    "\n",
    "Multiple Inheritance : Multiple inheritance is a feature of some object-oriented computer programming languages in which an object or class can inherit characteristics and features from more than one parent object or the parent class .if a child class inherits from more than one class, i.e. this child class is derived from multiple classes, we call it multiple inheritance in Python. This newly derived child class will inherit the properties of all the classes that it is derived from. A very simple real life example would be the one discussed above - a child inheriting properties of the father and mother.\n",
    "\n",
    "class class1:     \n",
    "    def test_class1(self):\n",
    "        print(\"this class 1\")\n",
    "        \n",
    "class class2:\n",
    "    def test_class2(self):\n",
    "        print(\"this class 2\")\n",
    "        \n",
    "class class3(class1, class2):\n",
    "    pass\n",
    "    \n",
    "obj_class3 = class3()\n",
    "obj_class3.test_class1()\n"
   ]
  },
  {
   "cell_type": "code",
   "execution_count": null,
   "id": "a45a3276-0f05-472b-a84e-6d840efda877",
   "metadata": {},
   "outputs": [],
   "source": []
  }
 ],
 "metadata": {
  "kernelspec": {
   "display_name": "Python 3 (ipykernel)",
   "language": "python",
   "name": "python3"
  },
  "language_info": {
   "codemirror_mode": {
    "name": "ipython",
    "version": 3
   },
   "file_extension": ".py",
   "mimetype": "text/x-python",
   "name": "python",
   "nbconvert_exporter": "python",
   "pygments_lexer": "ipython3",
   "version": "3.10.8"
  }
 },
 "nbformat": 4,
 "nbformat_minor": 5
}
